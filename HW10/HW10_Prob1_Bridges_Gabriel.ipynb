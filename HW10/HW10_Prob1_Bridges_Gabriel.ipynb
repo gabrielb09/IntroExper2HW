{
 "cells": [
  {
   "cell_type": "code",
   "execution_count": 1,
   "metadata": {
    "collapsed": true
   },
   "outputs": [],
   "source": [
    "# Into Exp. Physics II HW9, Gabriel Bridges\n",
    "# Problem 8.2\n",
    "# GLB300@nyu.edu"
   ]
  },
  {
   "cell_type": "code",
   "execution_count": 2,
   "metadata": {
    "collapsed": true
   },
   "outputs": [],
   "source": [
    "import numpy as np\n",
    "import matplotlib.pyplot as plt"
   ]
  },
  {
   "cell_type": "code",
   "execution_count": 3,
   "metadata": {
    "collapsed": true
   },
   "outputs": [],
   "source": [
    "t, r, dr = np.loadtxt(\"Data2.csv\",skiprows=4 , unpack=True, delimiter=\",\")"
   ]
  },
  {
   "cell_type": "code",
   "execution_count": 4,
   "metadata": {
    "collapsed": true
   },
   "outputs": [],
   "source": [
    "x = np.log(t)\n",
    "y = np.log(r)"
   ]
  },
  {
   "cell_type": "code",
   "execution_count": 5,
   "metadata": {
    "collapsed": false
   },
   "outputs": [
    {
     "data": {
      "text/plain": [
       "[<matplotlib.lines.Line2D at 0x1059f06d0>]"
      ]
     },
     "execution_count": 5,
     "metadata": {},
     "output_type": "execute_result"
    }
   ],
   "source": [
    "plt.figure(1)\n",
    "plt.plot(x,y,'ro', ms=3)"
   ]
  },
  {
   "cell_type": "code",
   "execution_count": 6,
   "metadata": {
    "collapsed": false
   },
   "outputs": [
    {
     "data": {
      "image/png": "[encoded data removed]",
      "text/plain": [
       "<matplotlib.figure.Figure at 0x1058d88d0>"
      ]
     },
     "metadata": {},
     "output_type": "display_data"
    }
   ],
   "source": [
    "plt.show()"
   ]
  },
  {
   "cell_type": "code",
   "execution_count": 7,
   "metadata": {
    "collapsed": true
   },
   "outputs": [],
   "source": [
    "def avgXY(x, y, dy):\n",
    "    sigmaSqr = 0\n",
    "    for n in dy:\n",
    "        sigmaSqr += 1/(n**2)\n",
    "    Xavg = 0\n",
    "    for i in range (0, len(x)):\n",
    "        Xavg += x[i]/(dy[i]**2)\n",
    "    Xavg *= 1/sigmaSqr\n",
    "    Yavg = 0\n",
    "    for i in range (0, len(y)):\n",
    "        Yavg += y[i]/(dy[i]**2)\n",
    "    Yavg *= 1/sigmaSqr\n",
    "    return Xavg, Yavg\n",
    "\n",
    "def LineFitWt(x, y, dy):\n",
    "    sigmaSqr = 0\n",
    "    for n in dy:\n",
    "        sigmaSqr += 1/(n**2)\n",
    "    mNume = 0\n",
    "    for n in range (0, len(x)):\n",
    "        mNume += ((x[n]-avgXY(x, y, dy)[0])*y[n])/(dy[n]**2)\n",
    "    mDenom = 0\n",
    "    for n in range (0, len(x)):\n",
    "        mDenom += ((x[n]-avgXY(x, y, dy)[0])*x[n])/(dy[n]**2)\n",
    "    m = mNume/mDenom\n",
    "    b = avgXY(x, y, dy)[1]-m*avgXY(x, y, dy)[0]\n",
    "    yFit = (x*m)+b\n",
    "    sigmaM = 0\n",
    "    for n in range (0, len(x)):\n",
    "        sigmaM += ((x[n]-avgXY(x, y, dy)[0])*x[n])/(dy[n]**2)\n",
    "    sigmaM = 1/sigmaM\n",
    "    sigmaB = 0\n",
    "    sigmaSqr = 0\n",
    "    for n in range (0, len(dy)):\n",
    "        sigmaSqr += 1/(dy[n]**2)\n",
    "    for n in range (0, len(x)):\n",
    "        sigmaB += (x[n]**2)/(dy[n]**2)\n",
    "    sigmaB *= sigmaSqr\n",
    "    sigmaB *= sigmaM\n",
    "    return yFit,sigmaM,sigmaB, m, b\n",
    "def chiSqr(x, y, dy):\n",
    "    chiSquared = 0\n",
    "    for n in range(0, len(y)):\n",
    "        chiSquared += ((y[n]-LineFitWt(x, y, dy)[0][n])/dy[n])**2\n",
    "    return chiSquared"
   ]
  },
  {
   "cell_type": "code",
   "execution_count": 8,
   "metadata": {
    "collapsed": false
   },
   "outputs": [
    {
     "data": {
      "text/plain": [
       "[<matplotlib.lines.Line2D at 0x105a30610>]"
      ]
     },
     "execution_count": 8,
     "metadata": {},
     "output_type": "execute_result"
    }
   ],
   "source": [
    "plt.figure(2)\n",
    "plt.plot(t,np.exp(LineFitWt(x, y ,dr)[0]))\n",
    "plt.plot(t, r, 'ro')"
   ]
  },
  {
   "cell_type": "code",
   "execution_count": 9,
   "metadata": {
    "collapsed": false,
    "deletable": true,
    "editable": true,
    "scrolled": true
   },
   "outputs": [
    {
     "data": {
      "image/png": "[encoded data removed]",
      "text/plain": [
       "<matplotlib.figure.Figure at 0x105a11850>"
      ]
     },
     "metadata": {},
     "output_type": "display_data"
    }
   ],
   "source": [
    "plt.show()"
   ]
  },
  {
   "cell_type": "code",
   "execution_count": 11,
   "metadata": {
    "collapsed": false
   },
   "outputs": [
    {
     "name": "stdout",
     "output_type": "stream",
     "text": [
      "Chi Squared is 6.31352335079e-05\n",
      "R = 341.344991102t^1.70752626253\n"
     ]
    }
   ],
   "source": [
    "print \"Chi Squared is \" + str(chiSqr(x, y, dr))\n",
    "print \"R = \" + str(np.exp(LineFitWt(x, y ,dr)[4])) + \"t^\" + str(np.exp(LineFitWt(x, y ,dr)[3]))"
   ]
  }
 ],
 "metadata": {
  "kernelspec": {
   "display_name": "Python 2",
   "language": "python",
   "name": "python2"
  },
  "language_info": {
   "codemirror_mode": {
    "name": "ipython",
    "version": 2
   },
   "file_extension": ".py",
   "mimetype": "text/x-python",
   "name": "python",
   "nbconvert_exporter": "python",
   "pygments_lexer": "ipython2",
   "version": "2.7.13"
  }
 },
 "nbformat": 4,
 "nbformat_minor": 2
}

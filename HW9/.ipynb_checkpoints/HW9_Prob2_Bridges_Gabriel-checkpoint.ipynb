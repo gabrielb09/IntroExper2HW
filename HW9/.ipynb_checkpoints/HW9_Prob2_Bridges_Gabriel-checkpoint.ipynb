{
 "cells": [
  {
   "cell_type": "code",
   "execution_count": 1,
   "metadata": {
    "collapsed": true
   },
   "outputs": [],
   "source": [
    "# Into Exp. Physics II HW9, Gabriel Bridges\n",
    "# Problem 7.2\n",
    "# GLB300@nyu.edu"
   ]
  },
  {
   "cell_type": "code",
   "execution_count": 2,
   "metadata": {
    "collapsed": true
   },
   "outputs": [],
   "source": [
    "import numpy as np\n",
    "import matplotlib.pyplot as plt"
   ]
  },
  {
   "cell_type": "code",
   "execution_count": 3,
   "metadata": {
    "collapsed": true
   },
   "outputs": [],
   "source": [
    "def dice(n):\n",
    "    sum = 0\n",
    "    i = 0\n",
    "    while (i < n):\n",
    "        sum += np.random.random_integers(6)\n",
    "        i += 1\n",
    "    return sum"
   ]
  },
  {
   "cell_type": "code",
   "execution_count": 4,
   "metadata": {
    "collapsed": false
   },
   "outputs": [
    {
     "name": "stderr",
     "output_type": "stream",
     "text": [
      "/Library/Frameworks/Python.framework/Versions/2.7/lib/python2.7/site-packages/ipykernel/__main__.py:5: DeprecationWarning: This function is deprecated. Please call randint(1, 6 + 1) instead\n"
     ]
    }
   ],
   "source": [
    "i = 1\n",
    "rolls = [dice(2)]\n",
    "while (i < 10000):\n",
    "    rolls = rolls + [dice(2)]\n",
    "    i += 1"
   ]
  },
  {
   "cell_type": "code",
   "execution_count": 5,
   "metadata": {
    "collapsed": false
   },
   "outputs": [
    {
     "data": {
      "text/plain": [
       "(array([  266.,   564.,   862.,  1062.,  1379.,  1654.,  1423.,  1113.,\n",
       "          872.,   538.,   267.]),\n",
       " array([  2.        ,   2.90909091,   3.81818182,   4.72727273,\n",
       "          5.63636364,   6.54545455,   7.45454545,   8.36363636,\n",
       "          9.27272727,  10.18181818,  11.09090909,  12.        ]),\n",
       " <a list of 11 Patch objects>)"
      ]
     },
     "execution_count": 5,
     "metadata": {},
     "output_type": "execute_result"
    }
   ],
   "source": [
    "plt.hist(rolls,11,normed=False, edgecolor='black',facecolor='blue')"
   ]
  },
  {
   "cell_type": "code",
   "execution_count": 6,
   "metadata": {
    "collapsed": false
   },
   "outputs": [
    {
     "data": {
      "image/png": "[encoded data removed]",
      "text/plain": [
       "<matplotlib.figure.Figure at 0x10581fa10>"
      ]
     },
     "metadata": {},
     "output_type": "display_data"
    }
   ],
   "source": [
    "plt.xlim(2,12)\n",
    "plt.show()"
   ]
  },
  {
   "cell_type": "code",
   "execution_count": 7,
   "metadata": {
    "collapsed": false
   },
   "outputs": [
    {
     "name": "stderr",
     "output_type": "stream",
     "text": [
      "/Library/Frameworks/Python.framework/Versions/2.7/lib/python2.7/site-packages/ipykernel/__main__.py:5: DeprecationWarning: This function is deprecated. Please call randint(1, 6 + 1) instead\n"
     ]
    }
   ],
   "source": [
    "i = 1\n",
    "rolls = [dice(2)]\n",
    "while (i < 10000):\n",
    "    rolls = rolls + [dice(3)]\n",
    "    i += 1"
   ]
  },
  {
   "cell_type": "code",
   "execution_count": 8,
   "metadata": {
    "collapsed": false
   },
   "outputs": [
    {
     "data": {
      "text/plain": [
       "(array([   37.,   147.,   295.,   438.,   672.,   961.,  1209.,  1240.,\n",
       "         1198.,  1215.,   979.,   706.,   441.,   270.,   144.,    48.]),\n",
       " array([  3.    ,   3.9375,   4.875 ,   5.8125,   6.75  ,   7.6875,\n",
       "          8.625 ,   9.5625,  10.5   ,  11.4375,  12.375 ,  13.3125,\n",
       "         14.25  ,  15.1875,  16.125 ,  17.0625,  18.    ]),\n",
       " <a list of 16 Patch objects>)"
      ]
     },
     "execution_count": 8,
     "metadata": {},
     "output_type": "execute_result"
    }
   ],
   "source": [
    "plt.hist(rolls,16,normed=False, edgecolor='black',facecolor='blue')"
   ]
  },
  {
   "cell_type": "code",
   "execution_count": 9,
   "metadata": {
    "collapsed": false
   },
   "outputs": [
    {
     "data": {
      "image/png": "[encoded data removed]",
      "text/plain": [
       "<matplotlib.figure.Figure at 0x105b20050>"
      ]
     },
     "metadata": {},
     "output_type": "display_data"
    }
   ],
   "source": [
    "plt.xlim(3,18)\n",
    "plt.show()"
   ]
  },
  {
   "cell_type": "code",
   "execution_count": null,
   "metadata": {
    "collapsed": true
   },
   "outputs": [],
   "source": []
  }
 ],
 "metadata": {
  "kernelspec": {
   "display_name": "Python 2",
   "language": "python",
   "name": "python2"
  },
  "language_info": {
   "codemirror_mode": {
    "name": "ipython",
    "version": 2
   },
   "file_extension": ".py",
   "mimetype": "text/x-python",
   "name": "python",
   "nbconvert_exporter": "python",
   "pygments_lexer": "ipython2",
   "version": "2.7.13"
  }
 },
 "nbformat": 4,
 "nbformat_minor": 2
}

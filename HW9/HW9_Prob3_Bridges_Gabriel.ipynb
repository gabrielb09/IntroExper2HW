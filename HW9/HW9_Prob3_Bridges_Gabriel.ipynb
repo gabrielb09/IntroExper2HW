{
 "cells": [
  {
   "cell_type": "code",
   "execution_count": 26,
   "metadata": {
    "collapsed": true
   },
   "outputs": [],
   "source": [
    "# Into Exp. Physics II HW9, Gabriel Bridges\n",
    "# Problem 7.3\n",
    "# GLB300@nyu.edu"
   ]
  },
  {
   "cell_type": "code",
   "execution_count": 27,
   "metadata": {
    "collapsed": false
   },
   "outputs": [],
   "source": [
    "import numpy as np\n",
    "from matplotlib import patches\n",
    "import matplotlib.pyplot as plt"
   ]
  },
  {
   "cell_type": "code",
   "execution_count": 28,
   "metadata": {
    "collapsed": true
   },
   "outputs": [],
   "source": [
    "def smile (size, isSmiling, pos, colour):\n",
    "    face = plt.Circle((pos[0],pos[1]), radius=size, color=colour, fill=False)\n",
    "    Leye = plt.Circle((pos[0]-(0.25*size),pos[1]+(0.25*size)), radius=size*0.125, color=colour, fill=False)\n",
    "    Reye = plt.Circle((pos[0]+(0.25*size),pos[1]+(0.25*size)), radius=size*0.125, color=colour, fill=False)\n",
    "    nose = plt.Circle((pos[0],pos[1]), radius=size*0.0625, color=colour, fill=False)\n",
    "    if (isSmiling):\n",
    "        mouth = patches.Arc(pos, size, size, angle = -90, theta1 = -45, theta2 = 45, color=colour)\n",
    "    else:\n",
    "        mouth = patches.Arc([pos[0],pos[1]-size], size, size, angle = 90, theta1 = -45, theta2 = 45, color=colour)\n",
    "    smily = plt.subplot()\n",
    "    smily.add_artist(face)\n",
    "    smily.add_artist(Leye)\n",
    "    smily.add_artist(Reye)\n",
    "    smily.add_artist(nose)\n",
    "    smily.add_patch(mouth)"
   ]
  },
  {
   "cell_type": "code",
   "execution_count": 42,
   "metadata": {
    "collapsed": false
   },
   "outputs": [],
   "source": [
    "smile (2, True, [0,0], 'r')\n",
    "smile (4, False, [6,6], 'k')\n",
    "smile (3, True, [-5,-5], 'b')"
   ]
  },
  {
   "cell_type": "code",
   "execution_count": 43,
   "metadata": {
    "collapsed": false
   },
   "outputs": [
    {
     "data": {
      "image/png": "[encoded data removed]",
      "text/plain": [
       "<matplotlib.figure.Figure at 0x10699b9d0>"
      ]
     },
     "metadata": {},
     "output_type": "display_data"
    }
   ],
   "source": [
    "plt.axes().set_aspect(1)\n",
    "plt.xlim(-11,11)\n",
    "plt.ylim(-11,11)\n",
    "plt.show()"
   ]
  },
  {
   "cell_type": "code",
   "execution_count": null,
   "metadata": {
    "collapsed": true
   },
   "outputs": [],
   "source": []
  }
 ],
 "metadata": {
  "kernelspec": {
   "display_name": "Python 2",
   "language": "python",
   "name": "python2"
  },
  "language_info": {
   "codemirror_mode": {
    "name": "ipython",
    "version": 2
   },
   "file_extension": ".py",
   "mimetype": "text/x-python",
   "name": "python",
   "nbconvert_exporter": "python",
   "pygments_lexer": "ipython2",
   "version": "2.7.13"
  }
 },
 "nbformat": 4,
 "nbformat_minor": 2
}

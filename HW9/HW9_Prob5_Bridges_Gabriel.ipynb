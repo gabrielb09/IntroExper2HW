{
 "cells": [
  {
   "cell_type": "code",
   "execution_count": 5,
   "metadata": {
    "collapsed": true
   },
   "outputs": [],
   "source": [
    "# Into Exp. Physics II HW9, Gabriel Bridges\n",
    "# Problem 7.5\n",
    "# GLB300@nyu.edu"
   ]
  },
  {
   "cell_type": "code",
   "execution_count": 6,
   "metadata": {
    "collapsed": true
   },
   "outputs": [],
   "source": [
    "import numpy as np\n",
    "import matplotlib.pyplot as plt"
   ]
  },
  {
   "cell_type": "code",
   "execution_count": 7,
   "metadata": {
    "collapsed": true
   },
   "outputs": [],
   "source": [
    "def avgXY(x, y, dy):\n",
    "    sigmaSqr = 0\n",
    "    for n in dy:\n",
    "        sigmaSqr += 1/(n**2)\n",
    "    Xavg = 0\n",
    "    for i in range (0, len(x)):\n",
    "        Xavg += x[i]/(dy[i]**2)\n",
    "    Xavg *= 1/sigmaSqr\n",
    "    Yavg = 0\n",
    "    for i in range (0, len(y)):\n",
    "        Yavg += y[i]/(dy[i]**2)\n",
    "    Yavg *= 1/sigmaSqr\n",
    "    return Xavg, Yavg"
   ]
  },
  {
   "cell_type": "code",
   "execution_count": 8,
   "metadata": {
    "collapsed": true
   },
   "outputs": [],
   "source": [
    "def LineFitWt(x, y, dy):\n",
    "    sigmaSqr = 0\n",
    "    for n in dy:\n",
    "        sigmaSqr += 1/(n**2)\n",
    "    mNume = 0\n",
    "    for n in range (0, len(x)):\n",
    "        mNume += ((x[n]-avgXY(x, y, dy)[0])*y[n])/(dy[n]**2)\n",
    "    mDenom = 0\n",
    "    for n in range (0, len(x)):\n",
    "        mDenom += ((x[n]-avgXY(x, y, dy)[0])*x[n])/(dy[n]**2)\n",
    "    m = mNume/mDenom\n",
    "    b = avgXY(x, y, dy)[1]-m*avgXY(x, y, dy)[0]\n",
    "    yFit = (x*m)+b\n",
    "    sigmaM = 0\n",
    "    for n in range (0, len(x)):\n",
    "        sigmaM += ((x[n]-avgXY(x, y, dy)[0])*x[n])/(dy[n]**2)\n",
    "    sigmaM = 1/sigmaM\n",
    "    sigmaB = 0\n",
    "    sigmaSqr = 0\n",
    "    for n in range (0, len(dy)):\n",
    "        sigmaSqr += 1/(dy[n]**2)\n",
    "    for n in range (0, len(x)):\n",
    "        sigmaB += (x[n]**2)/(dy[n]**2)\n",
    "    sigmaB *= sigmaSqr\n",
    "    sigmaB *= sigmaM\n",
    "    yFitMax = (x*(m+sigmaM)+b+sigmaB)\n",
    "    yFitMin = (x*(m-sigmaM)+b-sigmaB)\n",
    "    return yFit,yFitMax,yFitMin"
   ]
  },
  {
   "cell_type": "code",
   "execution_count": 11,
   "metadata": {
    "collapsed": false
   },
   "outputs": [
    {
     "data": {
      "text/plain": [
       "<Container object of 3 artists>"
      ]
     },
     "execution_count": 11,
     "metadata": {},
     "output_type": "execute_result"
    }
   ],
   "source": [
    "t, v, dv = np.loadtxt(\"Data.csv\",skiprows=4 , unpack=True, delimiter=\",\")\n",
    "plt.plot(t,LineFitWt(t, v, dv)[0])\n",
    "plt.plot(t,LineFitWt(t,v,dv)[1], 'k--', alpha=0.5)\n",
    "plt.plot(t,LineFitWt(t,v,dv)[2], 'k--', alpha=0.5)\n",
    "plt.plot()\n",
    "plt.errorbar(t,v,fmt='ro',yerr=dv, ecolor='black', capsize=4)"
   ]
  },
  {
   "cell_type": "code",
   "execution_count": 12,
   "metadata": {
    "collapsed": false
   },
   "outputs": [
    {
     "data": {
      "image/png": "[encoded data removed]",
      "text/plain": [
       "<matplotlib.figure.Figure at 0x105b0cd50>"
      ]
     },
     "metadata": {},
     "output_type": "display_data"
    }
   ],
   "source": [
    "plt.show()"
   ]
  },
  {
   "cell_type": "code",
   "execution_count": null,
   "metadata": {
    "collapsed": true
   },
   "outputs": [],
   "source": []
  }
 ],
 "metadata": {
  "kernelspec": {
   "display_name": "Python 2",
   "language": "python",
   "name": "python2"
  },
  "language_info": {
   "codemirror_mode": {
    "name": "ipython",
    "version": 2
   },
   "file_extension": ".py",
   "mimetype": "text/x-python",
   "name": "python",
   "nbconvert_exporter": "python",
   "pygments_lexer": "ipython2",
   "version": "2.7.13"
  }
 },
 "nbformat": 4,
 "nbformat_minor": 2
}

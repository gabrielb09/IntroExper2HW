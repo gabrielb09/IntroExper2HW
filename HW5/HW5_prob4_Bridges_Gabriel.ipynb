{
 "cells": [
  {
   "cell_type": "code",
   "execution_count": 2,
   "metadata": {
    "collapsed": false
   },
   "outputs": [
    {
     "name": "stdout",
     "output_type": "stream",
     "text": [
      "[  1.56604598   3.78076944   4.92719466   5.84456315   6.63387721\n",
      "   7.33779881   7.97938175   8.57281511   9.12758485   9.65041013\n",
      "  10.14625911  10.6189293   11.07140146  11.50606656  11.92487748\n",
      "  12.32945389  12.72115688  13.10114335  13.47040653]\n"
     ]
    }
   ],
   "source": [
    "# %load HW5_prob4_Bridges_Gabriel.py\n",
    "# Intro. Exp. Physics II HW5, Gabriel Bridges\n",
    "# Problem 3.4\n",
    "# GLB300@nyu.edu\n",
    "\n",
    "import numpy as np\n",
    "\n",
    "height = np.array(np.arange(10,0,-0.5))\n",
    "t = np.sqrt(((2*(10-height))/9.81))\n",
    "deltaT = t[1:t.size]-t[0:t.size-1]\n",
    "Vavg = 0.5/deltaT\n",
    "print Vavg\n"
   ]
  },
  {
   "cell_type": "code",
   "execution_count": null,
   "metadata": {
    "collapsed": true
   },
   "outputs": [],
   "source": []
  }
 ],
 "metadata": {
  "kernelspec": {
   "display_name": "Python 2",
   "language": "python",
   "name": "python2"
  },
  "language_info": {
   "codemirror_mode": {
    "name": "ipython",
    "version": 2
   },
   "file_extension": ".py",
   "mimetype": "text/x-python",
   "name": "python",
   "nbconvert_exporter": "python",
   "pygments_lexer": "ipython2",
   "version": "2.7.13"
  }
 },
 "nbformat": 4,
 "nbformat_minor": 2
}

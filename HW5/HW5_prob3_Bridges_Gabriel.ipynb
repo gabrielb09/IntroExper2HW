{
 "cells": [
  {
   "cell_type": "code",
   "execution_count": 2,
   "metadata": {
    "collapsed": false
   },
   "outputs": [
    {
     "name": "stdout",
     "output_type": "stream",
     "text": [
      "[ 10.    9.5   9.    8.5   8.    7.5   7.    6.5   6.    5.5   5.    4.5\n",
      "   4.    3.5   3.    2.5   2.    1.5   1.    0.5]\n",
      "[ 0.          0.31927543  0.45152364  0.55300126  0.63855086  0.71392156\n",
      "  0.78206189  0.84472338  0.90304728  0.95782629  1.00963755  1.0589168\n",
      "  1.10600253  1.15116393  1.19461927  1.23654842  1.27710171  1.31640631\n",
      "  1.35457092  1.39168933]\n"
     ]
    }
   ],
   "source": [
    "# %load HW5_prob3_Bridges_Gabriel.py\n",
    "# Intro. Exp. Physics II HW5, Gabriel Bridges\n",
    "# Problem 3.3\n",
    "# GLB300@nyu.edu\n",
    "\n",
    "import numpy as np\n",
    "\n",
    "height = np.array(np.arange(10,0,-0.5))\n",
    "t = np.sqrt(((2*(10-height))/9.81))\n",
    "print height\n",
    "print t\n"
   ]
  },
  {
   "cell_type": "code",
   "execution_count": null,
   "metadata": {
    "collapsed": true
   },
   "outputs": [],
   "source": []
  }
 ],
 "metadata": {
  "kernelspec": {
   "display_name": "Python 2",
   "language": "python",
   "name": "python2"
  },
  "language_info": {
   "codemirror_mode": {
    "name": "ipython",
    "version": 2
   },
   "file_extension": ".py",
   "mimetype": "text/x-python",
   "name": "python",
   "nbconvert_exporter": "python",
   "pygments_lexer": "ipython2",
   "version": "2.7.13"
  }
 },
 "nbformat": 4,
 "nbformat_minor": 2
}

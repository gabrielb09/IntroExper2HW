{
 "cells": [
  {
   "cell_type": "code",
   "execution_count": 1,
   "metadata": {
    "collapsed": true,
    "deletable": true,
    "editable": true
   },
   "outputs": [],
   "source": [
    "# %load HW5_prob1_Bridges_Gabriel.py\n",
    "# Intro. Exp. Physics II HW5, Gabriel Bridges\n",
    "# Problem 3.1\n",
    "# GLB300@nyu.edu\n",
    "import numpy as np"
   ]
  },
  {
   "cell_type": "code",
   "execution_count": 2,
   "metadata": {
    "collapsed": false,
    "deletable": true,
    "editable": true
   },
   "outputs": [
    {
     "name": "stdout",
     "output_type": "stream",
     "text": [
      "[  0.      3.625   7.25   10.875  14.5    18.125  21.75   25.375  29.   ]\n"
     ]
    }
   ],
   "source": [
    "r = np.array(np.linspace(0,29,num=9))\n",
    "print r"
   ]
  },
  {
   "cell_type": "code",
   "execution_count": 3,
   "metadata": {
    "collapsed": false,
    "deletable": true,
    "editable": true
   },
   "outputs": [
    {
     "name": "stdout",
     "output_type": "stream",
     "text": [
      "[   0.         13.140625   52.5625    118.265625  210.25      328.515625\n",
      "  473.0625    643.890625  841.      ]\n"
     ]
    }
   ],
   "source": [
    "square = r**2\n",
    "print square"
   ]
  },
  {
   "cell_type": "code",
   "execution_count": 4,
   "metadata": {
    "collapsed": false,
    "deletable": true,
    "editable": true
   },
   "outputs": [
    {
     "name": "stdout",
     "output_type": "stream",
     "text": [
      "[  0.     7.25  14.5   21.75  29.    36.25  43.5   50.75  58.  ]\n"
     ]
    }
   ],
   "source": [
    "plusDouble = r + r\n",
    "print plusDouble"
   ]
  },
  {
   "cell_type": "code",
   "execution_count": 5,
   "metadata": {
    "collapsed": false,
    "deletable": true,
    "editable": true
   },
   "outputs": [
    {
     "name": "stdout",
     "output_type": "stream",
     "text": [
      "[  0.     7.25  14.5   21.75  29.    36.25  43.5   50.75  58.  ]\n"
     ]
    }
   ],
   "source": [
    "multiplyDouble = r*2\n",
    "print multiplyDouble"
   ]
  }
 ],
 "metadata": {
  "kernelspec": {
   "display_name": "Python 2",
   "language": "python",
   "name": "python2"
  },
  "language_info": {
   "codemirror_mode": {
    "name": "ipython",
    "version": 2
   },
   "file_extension": ".py",
   "mimetype": "text/x-python",
   "name": "python",
   "nbconvert_exporter": "python",
   "pygments_lexer": "ipython2",
   "version": "2.7.13"
  }
 },
 "nbformat": 4,
 "nbformat_minor": 2
}

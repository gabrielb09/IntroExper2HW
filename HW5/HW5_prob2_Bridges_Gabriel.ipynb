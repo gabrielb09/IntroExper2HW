{
 "cells": [
  {
   "cell_type": "code",
   "execution_count": 3,
   "metadata": {
    "collapsed": false
   },
   "outputs": [],
   "source": [
    "# %load HW5_prob2_Bridges_Gabriel.py\n",
    "# Intro. Exp. Physics II HW5, Gabriel Bridges\n",
    "# Problem 3.2\n",
    "# GLB300@nyu.edu\n",
    "import numpy as np\n",
    "import math\n",
    "\n",
    "erray = np.full(100,math.e)\n",
    "anglrray = np.array(np.linspace(0,360,num=361))\n",
    "radiarray = anglrray*(2*(math.pi)/360)\n",
    "twotenthsarray = np.array(np.arange(12,17,0.2))\n",
    "twotenthsarrayinclusive = np.array(np.arange(12,17.2,0.2))"
   ]
  },
  {
   "cell_type": "code",
   "execution_count": null,
   "metadata": {
    "collapsed": true
   },
   "outputs": [],
   "source": []
  }
 ],
 "metadata": {
  "kernelspec": {
   "display_name": "Python 2",
   "language": "python",
   "name": "python2"
  },
  "language_info": {
   "codemirror_mode": {
    "name": "ipython",
    "version": 2
   },
   "file_extension": ".py",
   "mimetype": "text/x-python",
   "name": "python",
   "nbconvert_exporter": "python",
   "pygments_lexer": "ipython2",
   "version": "2.7.13"
  }
 },
 "nbformat": 4,
 "nbformat_minor": 2
}

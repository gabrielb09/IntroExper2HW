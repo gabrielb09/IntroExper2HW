{
 "cells": [
  {
   "cell_type": "code",
   "execution_count": 5,
   "metadata": {
    "collapsed": false,
    "scrolled": true
   },
   "outputs": [
    {
     "name": "stdout",
     "output_type": "stream",
     "text": [
      "input a list with format '[a,b,c,...]'\n",
      "[1,2,3,4,5]\n",
      "1.5811388300841898\n"
     ]
    }
   ],
   "source": [
    "data = eval(input(\"input a list with format '[a,b,c,...]'\\n\"))\n",
    "mean = sum(data)/len(data)\n",
    "count = 1\n",
    "devsqr = [(data[0]-mean)*(data[0]-mean)]\n",
    "while count < len(data):\n",
    "\tdevsqr = devsqr + [(data[count]-mean)*(data[count]-mean)]\n",
    "\tcount += 1\n",
    "stdv = (float(sum(devsqr))/float((len(data)-1)))**(0.5)\n",
    "print (stdv)"
   ]
  },
  {
   "cell_type": "code",
   "execution_count": null,
   "metadata": {
    "collapsed": true
   },
   "outputs": [],
   "source": []
  }
 ],
 "metadata": {
  "kernelspec": {
   "display_name": "Python 3",
   "language": "python",
   "name": "python3"
  },
  "language_info": {
   "codemirror_mode": {
    "name": "ipython",
    "version": 3
   },
   "file_extension": ".py",
   "mimetype": "text/x-python",
   "name": "python",
   "nbconvert_exporter": "python",
   "pygments_lexer": "ipython3",
   "version": "3.5.2"
  }
 },
 "nbformat": 4,
 "nbformat_minor": 2
}

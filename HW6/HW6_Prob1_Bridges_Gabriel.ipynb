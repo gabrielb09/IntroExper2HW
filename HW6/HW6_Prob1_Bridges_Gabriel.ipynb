{
 "cells": [
  {
   "cell_type": "code",
   "execution_count": 2,
   "metadata": {
    "collapsed": false
   },
   "outputs": [
    {
     "name": "stdout",
     "output_type": "stream",
     "text": [
      "How much money is in your lunch accout? 118.39\n",
      "What day of the month is it today? 17\n",
      "what month is it? April\n",
      "You can spend $8.46 per day\n"
     ]
    }
   ],
   "source": [
    "# %load HW6_Prob1_Bridges_Gabriel.py\n",
    "# Intro. Exp. Physics II HW5, Gabriel Bridges\n",
    "# Problem 4.1\n",
    "# GLB300@nyu.edu\n",
    "\n",
    "days = {\"january\":31,\"february\":28,\"march\":31,\"april\":30,\"may\":31,\"june\":30,\"july\":31,\"august\":31,\"september\":30,\"october\":31,\"november\":30,\"december\":31}\n",
    "cash = float(raw_input(\"How much money is in your lunch accout? \"))\n",
    "currentDay = int(raw_input(\"What day of the month is it today? \"))-1\n",
    "daysLeft = days[raw_input(\"what month is it? \").lower()]-currentDay\n",
    "print(\"You can spend ${0:0.2f} per day\" .format(cash/daysLeft))\n"
   ]
  },
  {
   "cell_type": "code",
   "execution_count": null,
   "metadata": {
    "collapsed": true
   },
   "outputs": [],
   "source": []
  }
 ],
 "metadata": {
  "kernelspec": {
   "display_name": "Python 2",
   "language": "python",
   "name": "python2"
  },
  "language_info": {
   "codemirror_mode": {
    "name": "ipython",
    "version": 2
   },
   "file_extension": ".py",
   "mimetype": "text/x-python",
   "name": "python",
   "nbconvert_exporter": "python",
   "pygments_lexer": "ipython2",
   "version": "2.7.13"
  }
 },
 "nbformat": 4,
 "nbformat_minor": 2
}

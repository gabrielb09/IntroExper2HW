{
 "cells": [
  {
   "cell_type": "code",
   "execution_count": 1,
   "metadata": {
    "collapsed": true
   },
   "outputs": [],
   "source": [
    "# Intro. Exp. Physics II HW5, Gabriel Bridges\n",
    "# Problem 4.3\n",
    "# GLB300@nyu.edu"
   ]
  },
  {
   "cell_type": "code",
   "execution_count": 2,
   "metadata": {
    "collapsed": true
   },
   "outputs": [],
   "source": [
    "import numpy as np"
   ]
  },
  {
   "cell_type": "code",
   "execution_count": 3,
   "metadata": {
    "collapsed": true
   },
   "outputs": [],
   "source": [
    "f, a, da = np.loadtxt(\"Data.txt\", skiprows=3, unpack=True)"
   ]
  },
  {
   "cell_type": "code",
   "execution_count": 4,
   "metadata": {
    "collapsed": false
   },
   "outputs": [
    {
     "name": "stdout",
     "output_type": "stream",
     "text": [
      "f =\n",
      "[  0.75     1.7885   2.8269   3.8654   4.9038   5.9423   6.9808   8.0192\n",
      "   9.0577  10.0962  11.1346  12.1731  13.2115  14.25  ]\n"
     ]
    }
   ],
   "source": [
    "print (\"f =\\n\" + str(f))"
   ]
  },
  {
   "cell_type": "code",
   "execution_count": 5,
   "metadata": {
    "collapsed": false
   },
   "outputs": [
    {
     "name": "stdout",
     "output_type": "stream",
     "text": [
      "a =\n",
      "[ 13.52  12.11  14.27  16.6   22.91  35.28  60.99  33.38  17.78  10.99\n",
      "   7.47   6.72   4.4    4.07]\n"
     ]
    }
   ],
   "source": [
    "print (\"a =\\n\" + str(a))"
   ]
  },
  {
   "cell_type": "code",
   "execution_count": 6,
   "metadata": {
    "collapsed": false
   },
   "outputs": [
    {
     "name": "stdout",
     "output_type": "stream",
     "text": [
      "da =\n",
      "[ 0.32  0.92  0.73  2.06  1.75  0.91  0.99  0.36  2.32  0.21  0.48  0.51\n",
      "  0.58  0.63]\n"
     ]
    }
   ],
   "source": [
    "print (\"da =\\n\" + str(da))"
   ]
  },
  {
   "cell_type": "code",
   "execution_count": null,
   "metadata": {
    "collapsed": true
   },
   "outputs": [],
   "source": []
  }
 ],
 "metadata": {
  "kernelspec": {
   "display_name": "Python 2",
   "language": "python",
   "name": "python2"
  },
  "language_info": {
   "codemirror_mode": {
    "name": "ipython",
    "version": 2
   },
   "file_extension": ".py",
   "mimetype": "text/x-python",
   "name": "python",
   "nbconvert_exporter": "python",
   "pygments_lexer": "ipython2",
   "version": "2.7.13"
  }
 },
 "nbformat": 4,
 "nbformat_minor": 2
}

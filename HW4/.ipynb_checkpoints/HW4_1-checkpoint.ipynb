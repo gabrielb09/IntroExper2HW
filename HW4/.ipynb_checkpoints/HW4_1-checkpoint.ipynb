{
 "cells": [
  {
   "cell_type": "code",
   "execution_count": 1,
   "metadata": {
    "collapsed": true
   },
   "outputs": [],
   "source": [
    "import numpy as np\n",
    "import matplotlib.pyplot as plt"
   ]
  },
  {
   "cell_type": "code",
   "execution_count": 2,
   "metadata": {
    "collapsed": true
   },
   "outputs": [],
   "source": [
    "g = 9.8\n",
    "t = 0.0\n",
    "h = [1.2]\n",
    "v = [5.4]\n",
    "t = [0]\n",
    "c = 0\n",
    "T = 0.5"
   ]
  },
  {
   "cell_type": "code",
   "execution_count": 3,
   "metadata": {
    "collapsed": false
   },
   "outputs": [
    {
     "name": "stdout",
     "output_type": "stream",
     "text": [
      "At time T = 0.5s the ball is 2.6739804 meters up, and is traveling at 0.5196 meters per second\n"
     ]
    }
   ],
   "source": [
    "while c < T*1000:\n",
    "\th = h + [h[0] + (v[0]*t[c]) - (0.5*g*(t[c]**2))]\n",
    "\tv = v + [v[0] - g*t[c]]\n",
    "\tt = t + [0.001*c]\n",
    "\tc += 1\n",
    "print(\"At time T = 0.5s the ball is \" + str(h[c]) + \" meters up, and is traveling at \" + str(v[c]) + \" meters per second\")\n"
   ]
  },
  {
   "cell_type": "code",
   "execution_count": 4,
   "metadata": {
    "collapsed": true
   },
   "outputs": [],
   "source": [
    "T = 2.0"
   ]
  },
  {
   "cell_type": "code",
   "execution_count": 31,
   "metadata": {
    "collapsed": false
   },
   "outputs": [
    {
     "name": "stdout",
     "output_type": "stream",
     "text": [
      "At time T = 2.0s the ball is -7.5716196 meters up, and is traveling at -14.1804 meters per second\n"
     ]
    }
   ],
   "source": [
    "while c < T*1000:\n",
    "\th = h + [h[0] + (v[0]*t[c]) - (0.5*g*(t[c]**2))]\n",
    "\tv = v + [v[0] - g*t[c]]\n",
    "\tt = t + [0.001*c]\n",
    "\tc += 1\n",
    "print(\"At time T = 2.0s the ball is \" + str(h[c]) + \" meters up, and is traveling at \" + str(v[c]) + \" meters per second\")"
   ]
  },
  {
   "cell_type": "code",
   "execution_count": 38,
   "metadata": {
    "collapsed": false
   },
   "outputs": [
    {
     "data": {
      "text/plain": [
       "<matplotlib.text.Text at 0x1071b1890>"
      ]
     },
     "execution_count": 38,
     "metadata": {},
     "output_type": "execute_result"
    }
   ],
   "source": [
    "plt.figure(1)\n",
    "plt.subplot(3,1,1)\n",
    "plt.plot(t,h)\n",
    "plt.xlabel(\"Time\")\n",
    "plt.ylabel(\"Height\")"
   ]
  },
  {
   "cell_type": "code",
   "execution_count": 39,
   "metadata": {
    "collapsed": false
   },
   "outputs": [
    {
     "data": {
      "text/plain": [
       "<matplotlib.text.Text at 0x1073bca50>"
      ]
     },
     "execution_count": 39,
     "metadata": {},
     "output_type": "execute_result"
    }
   ],
   "source": [
    "plt.subplot(3,1,3)\n",
    "plt.plot(t,v)\n",
    "plt.xlabel(\"Time\")\n",
    "plt.ylabel(\"Velocity\")"
   ]
  },
  {
   "cell_type": "code",
   "execution_count": 40,
   "metadata": {
    "collapsed": false,
    "scrolled": false
   },
   "outputs": [
    {
     "data": {
      "image/png": "[encoded data removed]",
      "text/plain": [
       "<matplotlib.figure.Figure at 0x107151e50>"
      ]
     },
     "metadata": {},
     "output_type": "display_data"
    }
   ],
   "source": [
    "plt.show()"
   ]
  },
  {
   "cell_type": "code",
   "execution_count": null,
   "metadata": {
    "collapsed": true
   },
   "outputs": [],
   "source": []
  }
 ],
 "metadata": {
  "celltoolbar": "Raw Cell Format",
  "kernelspec": {
   "display_name": "Python 2",
   "language": "python",
   "name": "python2"
  },
  "language_info": {
   "codemirror_mode": {
    "name": "ipython",
    "version": 2
   },
   "file_extension": ".py",
   "mimetype": "text/x-python",
   "name": "python",
   "nbconvert_exporter": "python",
   "pygments_lexer": "ipython2",
   "version": "2.7.13"
  }
 },
 "nbformat": 4,
 "nbformat_minor": 2
}
